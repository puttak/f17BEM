{
 "cells": [
  {
   "cell_type": "markdown",
   "metadata": {},
   "source": [
    "# Assignment #2\n",
    "## 1 Data Cleaning"
   ]
  },
  {
   "cell_type": "code",
   "execution_count": 4,
   "metadata": {
    "collapsed": true
   },
   "outputs": [],
   "source": [
    "import numpy as np\n",
    "import matplotlib.pyplot as plt\n",
    "import pandas as pd\n",
    "import datetime as dt\n",
    "import itertools\n",
    "import seaborn as sns\n",
    "\n",
    "%matplotlib inline"
   ]
  },
  {
   "cell_type": "markdown",
   "metadata": {},
   "source": [
    "**#Task #1 [5%]:** Load the campusDemand.csv, keeping only the columns of “Point name”, “Time” and “Value”."
   ]
  },
  {
   "cell_type": "code",
   "execution_count": 5,
   "metadata": {},
   "outputs": [
    {
     "data": {
      "text/html": [
       "<div>\n",
       "<style>\n",
       "    .dataframe thead tr:only-child th {\n",
       "        text-align: right;\n",
       "    }\n",
       "\n",
       "    .dataframe thead th {\n",
       "        text-align: left;\n",
       "    }\n",
       "\n",
       "    .dataframe tbody tr th {\n",
       "        vertical-align: top;\n",
       "    }\n",
       "</style>\n",
       "<table border=\"1\" class=\"dataframe\">\n",
       "  <thead>\n",
       "    <tr style=\"text-align: right;\">\n",
       "      <th></th>\n",
       "      <th>Point name</th>\n",
       "      <th>Time</th>\n",
       "      <th>Value</th>\n",
       "    </tr>\n",
       "  </thead>\n",
       "  <tbody>\n",
       "    <tr>\n",
       "      <th>0</th>\n",
       "      <td>Porter Hall Electric (Shark 30) - Watts</td>\n",
       "      <td>2014-09-10 00:00:50</td>\n",
       "      <td>80.635422</td>\n",
       "    </tr>\n",
       "    <tr>\n",
       "      <th>1</th>\n",
       "      <td>Porter Hall Electric (Shark 30) - Watts</td>\n",
       "      <td>2014-09-10 00:01:50</td>\n",
       "      <td>77.046992</td>\n",
       "    </tr>\n",
       "    <tr>\n",
       "      <th>2</th>\n",
       "      <td>Porter Hall Electric (Shark 30) - Watts</td>\n",
       "      <td>2014-09-10 00:02:50</td>\n",
       "      <td>76.787828</td>\n",
       "    </tr>\n",
       "    <tr>\n",
       "      <th>3</th>\n",
       "      <td>Porter Hall Electric (Shark 30) - Watts</td>\n",
       "      <td>2014-09-10 00:03:50</td>\n",
       "      <td>79.804031</td>\n",
       "    </tr>\n",
       "    <tr>\n",
       "      <th>4</th>\n",
       "      <td>Porter Hall Electric (Shark 30) - Watts</td>\n",
       "      <td>2014-09-10 00:04:50</td>\n",
       "      <td>79.397078</td>\n",
       "    </tr>\n",
       "  </tbody>\n",
       "</table>\n",
       "</div>"
      ],
      "text/plain": [
       "                                Point name                Time      Value\n",
       "0  Porter Hall Electric (Shark 30) - Watts 2014-09-10 00:00:50  80.635422\n",
       "1  Porter Hall Electric (Shark 30) - Watts 2014-09-10 00:01:50  77.046992\n",
       "2  Porter Hall Electric (Shark 30) - Watts 2014-09-10 00:02:50  76.787828\n",
       "3  Porter Hall Electric (Shark 30) - Watts 2014-09-10 00:03:50  79.804031\n",
       "4  Porter Hall Electric (Shark 30) - Watts 2014-09-10 00:04:50  79.397078"
      ]
     },
     "execution_count": 5,
     "metadata": {},
     "output_type": "execute_result"
    }
   ],
   "source": [
    "f = open('data/campusDemand.csv')\n",
    "cols=['Point name','Time','Value'] #select used cols\n",
    "data = pd.read_csv(f,usecols=cols,sep=',', header='infer', parse_dates=[1])\n",
    "data['Value']=data['Value']/1000 #convert into kW\n",
    "data.head()"
   ]
  },
  {
   "cell_type": "markdown",
   "metadata": {},
   "source": [
    "**Task #2 [5%]:** Remove all meters except for Porter Hall and Baker Hall from the loaded dataset."
   ]
  },
  {
   "cell_type": "code",
   "execution_count": 7,
   "metadata": {},
   "outputs": [
    {
     "data": {
      "text/html": [
       "<div>\n",
       "<style>\n",
       "    .dataframe thead tr:only-child th {\n",
       "        text-align: right;\n",
       "    }\n",
       "\n",
       "    .dataframe thead th {\n",
       "        text-align: left;\n",
       "    }\n",
       "\n",
       "    .dataframe tbody tr th {\n",
       "        vertical-align: top;\n",
       "    }\n",
       "</style>\n",
       "<table border=\"1\" class=\"dataframe\">\n",
       "  <thead>\n",
       "    <tr style=\"text-align: right;\">\n",
       "      <th></th>\n",
       "      <th>Point name</th>\n",
       "      <th>Number of samples</th>\n",
       "    </tr>\n",
       "  </thead>\n",
       "  <tbody>\n",
       "    <tr>\n",
       "      <th>0</th>\n",
       "      <td>Porter Hall Electric (Shark 30) - Watts</td>\n",
       "      <td>86381</td>\n",
       "    </tr>\n",
       "    <tr>\n",
       "      <th>1</th>\n",
       "      <td>Baker Hall Electric (Shark 29) - Watts</td>\n",
       "      <td>10342</td>\n",
       "    </tr>\n",
       "  </tbody>\n",
       "</table>\n",
       "</div>"
      ],
      "text/plain": [
       "                                Point name  Number of samples\n",
       "0  Porter Hall Electric (Shark 30) - Watts              86381\n",
       "1   Baker Hall Electric (Shark 29) - Watts              10342"
      ]
     },
     "execution_count": 7,
     "metadata": {},
     "output_type": "execute_result"
    }
   ],
   "source": [
    "pointNames = data['Point name'].unique()[:2] #first two\n",
    "pd.DataFrame([(pn, len(data[data['Point name'] == pn])) for pn in pointNames],\n",
    "            columns=['Point name','Number of samples'])"
   ]
  },
  {
   "cell_type": "code",
   "execution_count": 8,
   "metadata": {
    "scrolled": true
   },
   "outputs": [
    {
     "data": {
      "text/html": [
       "<div>\n",
       "<style>\n",
       "    .dataframe thead tr:only-child th {\n",
       "        text-align: right;\n",
       "    }\n",
       "\n",
       "    .dataframe thead th {\n",
       "        text-align: left;\n",
       "    }\n",
       "\n",
       "    .dataframe tbody tr th {\n",
       "        vertical-align: top;\n",
       "    }\n",
       "</style>\n",
       "<table border=\"1\" class=\"dataframe\">\n",
       "  <thead>\n",
       "    <tr style=\"text-align: right;\">\n",
       "      <th></th>\n",
       "      <th>Point name</th>\n",
       "      <th>Time</th>\n",
       "      <th>Value</th>\n",
       "    </tr>\n",
       "  </thead>\n",
       "  <tbody>\n",
       "    <tr>\n",
       "      <th>0</th>\n",
       "      <td>Porter Hall Electric (Shark 30) - Watts</td>\n",
       "      <td>2014-09-10 00:00:50</td>\n",
       "      <td>80.635422</td>\n",
       "    </tr>\n",
       "    <tr>\n",
       "      <th>1</th>\n",
       "      <td>Porter Hall Electric (Shark 30) - Watts</td>\n",
       "      <td>2014-09-10 00:01:50</td>\n",
       "      <td>77.046992</td>\n",
       "    </tr>\n",
       "    <tr>\n",
       "      <th>2</th>\n",
       "      <td>Porter Hall Electric (Shark 30) - Watts</td>\n",
       "      <td>2014-09-10 00:02:50</td>\n",
       "      <td>76.787828</td>\n",
       "    </tr>\n",
       "    <tr>\n",
       "      <th>3</th>\n",
       "      <td>Porter Hall Electric (Shark 30) - Watts</td>\n",
       "      <td>2014-09-10 00:03:50</td>\n",
       "      <td>79.804031</td>\n",
       "    </tr>\n",
       "    <tr>\n",
       "      <th>4</th>\n",
       "      <td>Porter Hall Electric (Shark 30) - Watts</td>\n",
       "      <td>2014-09-10 00:04:50</td>\n",
       "      <td>79.397078</td>\n",
       "    </tr>\n",
       "  </tbody>\n",
       "</table>\n",
       "</div>"
      ],
      "text/plain": [
       "                                Point name                Time      Value\n",
       "0  Porter Hall Electric (Shark 30) - Watts 2014-09-10 00:00:50  80.635422\n",
       "1  Porter Hall Electric (Shark 30) - Watts 2014-09-10 00:01:50  77.046992\n",
       "2  Porter Hall Electric (Shark 30) - Watts 2014-09-10 00:02:50  76.787828\n",
       "3  Porter Hall Electric (Shark 30) - Watts 2014-09-10 00:03:50  79.804031\n",
       "4  Porter Hall Electric (Shark 30) - Watts 2014-09-10 00:04:50  79.397078"
      ]
     },
     "execution_count": 8,
     "metadata": {},
     "output_type": "execute_result"
    }
   ],
   "source": [
    "df1=data[data['Point name'] == pointNames[0]]\n",
    "df2=data[data['Point name'] == pointNames[1]]\n",
    "data=pd.concat([df1, df2], ignore_index=True)\n",
    "data.head()"
   ]
  },
  {
   "cell_type": "markdown",
   "metadata": {},
   "source": [
    "**Task #3 [5%]:** *Identify and remedy* at least two examples of these problems in the dataset."
   ]
  },
  {
   "cell_type": "code",
   "execution_count": 9,
   "metadata": {},
   "outputs": [
    {
     "data": {
      "image/png": "[encoded data removed]",
      "text/plain": [
       "<matplotlib.figure.Figure at 0x1ef6edf19b0>"
      ]
     },
     "metadata": {},
     "output_type": "display_data"
    }
   ],
   "source": [
    "fig = plt.figure(figsize=(20,5))\n",
    "for meter,i in zip(pointNames,range(len(pointNames))):\n",
    "    plt.subplot(1,2,i+1)\n",
    "    plt.plot(data[data['Point name']==meter]['Time'])\n",
    "    plt.title(meter)\n",
    "    plt.xlabel('Row number')\n",
    "    plt.ylabel('Timestamp')"
   ]
  },
  {
   "cell_type": "code",
   "execution_count": 10,
   "metadata": {},
   "outputs": [
    {
     "name": "stdout",
     "output_type": "stream",
     "text": [
      "-=-=-=-=-=-=-=-=-\n",
      "Porter Hall Electric (Shark 30) - Watts\n",
      "resolution:0.0006944444444444445\n",
      "gaps:\n",
      "-=-=-=-=-=-=-=-=-\n",
      "Baker Hall Electric (Shark 29) - Watts\n",
      "resolution:0.0006944444444444445\n",
      "gaps:\n"
     ]
    }
   ],
   "source": [
    "idx = [np.where(data['Point name']==meter) for meter in pointNames]\n",
    "delta_t = [[d/np.timedelta64(1, 'D') for d in np.diff(data['Time'].iloc[i[0]])] for i in idx]\n",
    "\n",
    "np.set_printoptions(threshold=np.nan)\n",
    "for i in range(len(delta_t)):\n",
    "    resolution = np.median(delta_t[i]) # use median as the resolution\n",
    "    gap_idx = np.where(np.array(delta_t[i]) > (resolution)) # define the gap to be the delta_t> resolution\n",
    "    # print out the gap for each power meter\n",
    "    print(\"-=-=-=-=-=-=-=-=-\\n{}\\nresolution:{}\\ngaps:\".format(pointNames[i],resolution))\n",
    "np.set_printoptions(threshold=8)"
   ]
  },
  {
   "cell_type": "markdown",
   "metadata": {},
   "source": [
    "**Task #4 [10%]:** Following the same normalization approach documented in Kwac et al. (i.e., Equation 1 from paper #1), create daily load curves for meters Porter Hall and Baker Hall (you can store these however you like, but you should be able to recover what meter each\n",
    "load curve came from)."
   ]
  },
  {
   "cell_type": "code",
   "execution_count": 16,
   "metadata": {
    "collapsed": true
   },
   "outputs": [
    {
     "data": {
      "text/plain": [
       "<matplotlib.axes._subplots.AxesSubplot at 0x1ef6f659630>"
      ]
     },
     "execution_count": 16,
     "metadata": {},
     "output_type": "execute_result"
    },
    {
     "data": {
      "image/png": "[encoded data removed]",
      "text/plain": [
       "<matplotlib.figure.Figure at 0x1ef7227c6a0>"
      ]
     },
     "metadata": {},
     "output_type": "display_data"
    }
   ],
   "source": [
    "data['Hour'] = data['Time'].dt.hour\n",
    "data['DayOfYear'] = data['Time'].dt.dayofyear\n",
    "df1=data[data['Point name'] == pointNames[0]]\n",
    "df2=data[data['Point name'] == pointNames[1]]\n",
    "df1.boxplot(by=\"Hour\",column=['Value'],figsize=(20,5))"
   ]
  },
  {
   "cell_type": "code",
   "execution_count": 12,
   "metadata": {},
   "outputs": [
    {
     "data": {
      "text/html": [
       "<div>\n",
       "<style>\n",
       "    .dataframe thead tr:only-child th {\n",
       "        text-align: right;\n",
       "    }\n",
       "\n",
       "    .dataframe thead th {\n",
       "        text-align: left;\n",
       "    }\n",
       "\n",
       "    .dataframe tbody tr th {\n",
       "        vertical-align: top;\n",
       "    }\n",
       "</style>\n",
       "<table border=\"1\" class=\"dataframe\">\n",
       "  <thead>\n",
       "    <tr style=\"text-align: right;\">\n",
       "      <th>Hour</th>\n",
       "      <th>0</th>\n",
       "      <th>1</th>\n",
       "      <th>2</th>\n",
       "      <th>3</th>\n",
       "      <th>4</th>\n",
       "      <th>5</th>\n",
       "      <th>6</th>\n",
       "      <th>7</th>\n",
       "      <th>8</th>\n",
       "      <th>9</th>\n",
       "      <th>...</th>\n",
       "      <th>14</th>\n",
       "      <th>15</th>\n",
       "      <th>16</th>\n",
       "      <th>17</th>\n",
       "      <th>18</th>\n",
       "      <th>19</th>\n",
       "      <th>20</th>\n",
       "      <th>21</th>\n",
       "      <th>22</th>\n",
       "      <th>23</th>\n",
       "    </tr>\n",
       "    <tr>\n",
       "      <th>DayOfYear</th>\n",
       "      <th></th>\n",
       "      <th></th>\n",
       "      <th></th>\n",
       "      <th></th>\n",
       "      <th></th>\n",
       "      <th></th>\n",
       "      <th></th>\n",
       "      <th></th>\n",
       "      <th></th>\n",
       "      <th></th>\n",
       "      <th></th>\n",
       "      <th></th>\n",
       "      <th></th>\n",
       "      <th></th>\n",
       "      <th></th>\n",
       "      <th></th>\n",
       "      <th></th>\n",
       "      <th></th>\n",
       "      <th></th>\n",
       "      <th></th>\n",
       "      <th></th>\n",
       "    </tr>\n",
       "  </thead>\n",
       "  <tbody>\n",
       "    <tr>\n",
       "      <th>307</th>\n",
       "      <td>175.852930</td>\n",
       "      <td>175.942917</td>\n",
       "      <td>176.160844</td>\n",
       "      <td>174.275443</td>\n",
       "      <td>174.106853</td>\n",
       "      <td>174.261518</td>\n",
       "      <td>169.094900</td>\n",
       "      <td>177.682604</td>\n",
       "      <td>213.738464</td>\n",
       "      <td>240.834234</td>\n",
       "      <td>...</td>\n",
       "      <td>285.848431</td>\n",
       "      <td>282.179261</td>\n",
       "      <td>265.808264</td>\n",
       "      <td>234.853047</td>\n",
       "      <td>216.433591</td>\n",
       "      <td>201.523218</td>\n",
       "      <td>195.322661</td>\n",
       "      <td>192.279532</td>\n",
       "      <td>184.430220</td>\n",
       "      <td>0.000000</td>\n",
       "    </tr>\n",
       "    <tr>\n",
       "      <th>308</th>\n",
       "      <td>0.000000</td>\n",
       "      <td>0.000000</td>\n",
       "      <td>0.000000</td>\n",
       "      <td>0.000000</td>\n",
       "      <td>0.000000</td>\n",
       "      <td>0.000000</td>\n",
       "      <td>0.000000</td>\n",
       "      <td>0.000000</td>\n",
       "      <td>0.000000</td>\n",
       "      <td>0.000000</td>\n",
       "      <td>...</td>\n",
       "      <td>0.000000</td>\n",
       "      <td>286.586233</td>\n",
       "      <td>265.938267</td>\n",
       "      <td>239.585123</td>\n",
       "      <td>222.697812</td>\n",
       "      <td>209.463517</td>\n",
       "      <td>197.027155</td>\n",
       "      <td>186.071296</td>\n",
       "      <td>181.531721</td>\n",
       "      <td>178.805078</td>\n",
       "    </tr>\n",
       "    <tr>\n",
       "      <th>309</th>\n",
       "      <td>180.193163</td>\n",
       "      <td>182.560160</td>\n",
       "      <td>183.842780</td>\n",
       "      <td>179.764531</td>\n",
       "      <td>182.836855</td>\n",
       "      <td>175.745066</td>\n",
       "      <td>176.432762</td>\n",
       "      <td>180.821283</td>\n",
       "      <td>212.186652</td>\n",
       "      <td>251.332272</td>\n",
       "      <td>...</td>\n",
       "      <td>291.658874</td>\n",
       "      <td>285.164083</td>\n",
       "      <td>272.461321</td>\n",
       "      <td>237.702088</td>\n",
       "      <td>219.649703</td>\n",
       "      <td>206.454560</td>\n",
       "      <td>202.381737</td>\n",
       "      <td>193.751685</td>\n",
       "      <td>185.432286</td>\n",
       "      <td>183.448285</td>\n",
       "    </tr>\n",
       "    <tr>\n",
       "      <th>310</th>\n",
       "      <td>186.157468</td>\n",
       "      <td>183.998117</td>\n",
       "      <td>181.802408</td>\n",
       "      <td>182.144195</td>\n",
       "      <td>183.023390</td>\n",
       "      <td>177.470083</td>\n",
       "      <td>176.171268</td>\n",
       "      <td>186.631749</td>\n",
       "      <td>224.335634</td>\n",
       "      <td>257.182840</td>\n",
       "      <td>...</td>\n",
       "      <td>301.060032</td>\n",
       "      <td>294.788286</td>\n",
       "      <td>276.780736</td>\n",
       "      <td>246.844796</td>\n",
       "      <td>224.904487</td>\n",
       "      <td>208.292501</td>\n",
       "      <td>201.058415</td>\n",
       "      <td>195.169069</td>\n",
       "      <td>187.074535</td>\n",
       "      <td>188.150353</td>\n",
       "    </tr>\n",
       "    <tr>\n",
       "      <th>311</th>\n",
       "      <td>188.400620</td>\n",
       "      <td>182.542287</td>\n",
       "      <td>179.710584</td>\n",
       "      <td>177.053361</td>\n",
       "      <td>180.046761</td>\n",
       "      <td>174.740786</td>\n",
       "      <td>176.120018</td>\n",
       "      <td>188.299121</td>\n",
       "      <td>217.889758</td>\n",
       "      <td>241.979390</td>\n",
       "      <td>...</td>\n",
       "      <td>277.692398</td>\n",
       "      <td>269.128969</td>\n",
       "      <td>246.022263</td>\n",
       "      <td>221.403711</td>\n",
       "      <td>205.581470</td>\n",
       "      <td>194.892612</td>\n",
       "      <td>188.247514</td>\n",
       "      <td>185.002102</td>\n",
       "      <td>182.339011</td>\n",
       "      <td>181.330262</td>\n",
       "    </tr>\n",
       "    <tr>\n",
       "      <th>312</th>\n",
       "      <td>181.016096</td>\n",
       "      <td>176.967548</td>\n",
       "      <td>173.808963</td>\n",
       "      <td>170.832941</td>\n",
       "      <td>172.258333</td>\n",
       "      <td>171.131140</td>\n",
       "      <td>171.988145</td>\n",
       "      <td>167.823309</td>\n",
       "      <td>171.800550</td>\n",
       "      <td>182.450307</td>\n",
       "      <td>...</td>\n",
       "      <td>187.203922</td>\n",
       "      <td>178.987205</td>\n",
       "      <td>176.308873</td>\n",
       "      <td>176.490823</td>\n",
       "      <td>176.148830</td>\n",
       "      <td>177.432243</td>\n",
       "      <td>176.202477</td>\n",
       "      <td>176.172438</td>\n",
       "      <td>177.231555</td>\n",
       "      <td>178.389350</td>\n",
       "    </tr>\n",
       "    <tr>\n",
       "      <th>313</th>\n",
       "      <td>176.348750</td>\n",
       "      <td>174.001091</td>\n",
       "      <td>177.574199</td>\n",
       "      <td>173.242941</td>\n",
       "      <td>173.765359</td>\n",
       "      <td>173.051066</td>\n",
       "      <td>173.211362</td>\n",
       "      <td>171.852120</td>\n",
       "      <td>170.873375</td>\n",
       "      <td>173.944022</td>\n",
       "      <td>...</td>\n",
       "      <td>179.469293</td>\n",
       "      <td>181.268515</td>\n",
       "      <td>184.402566</td>\n",
       "      <td>188.127345</td>\n",
       "      <td>189.121753</td>\n",
       "      <td>188.820933</td>\n",
       "      <td>186.481231</td>\n",
       "      <td>185.176643</td>\n",
       "      <td>184.925333</td>\n",
       "      <td>180.496314</td>\n",
       "    </tr>\n",
       "    <tr>\n",
       "      <th>314</th>\n",
       "      <td>178.477067</td>\n",
       "      <td>170.902829</td>\n",
       "      <td>168.781275</td>\n",
       "      <td>168.183836</td>\n",
       "      <td>170.888739</td>\n",
       "      <td>167.238539</td>\n",
       "      <td>168.414832</td>\n",
       "      <td>177.146661</td>\n",
       "      <td>216.465390</td>\n",
       "      <td>251.176082</td>\n",
       "      <td>...</td>\n",
       "      <td>291.936339</td>\n",
       "      <td>288.816652</td>\n",
       "      <td>272.834723</td>\n",
       "      <td>236.619500</td>\n",
       "      <td>215.968310</td>\n",
       "      <td>201.579994</td>\n",
       "      <td>192.943178</td>\n",
       "      <td>186.367610</td>\n",
       "      <td>180.377802</td>\n",
       "      <td>0.000000</td>\n",
       "    </tr>\n",
       "  </tbody>\n",
       "</table>\n",
       "<p>8 rows × 24 columns</p>\n",
       "</div>"
      ],
      "text/plain": [
       "Hour               0           1           2           3           4   \\\n",
       "DayOfYear                                                               \n",
       "307        175.852930  175.942917  176.160844  174.275443  174.106853   \n",
       "308          0.000000    0.000000    0.000000    0.000000    0.000000   \n",
       "309        180.193163  182.560160  183.842780  179.764531  182.836855   \n",
       "310        186.157468  183.998117  181.802408  182.144195  183.023390   \n",
       "311        188.400620  182.542287  179.710584  177.053361  180.046761   \n",
       "312        181.016096  176.967548  173.808963  170.832941  172.258333   \n",
       "313        176.348750  174.001091  177.574199  173.242941  173.765359   \n",
       "314        178.477067  170.902829  168.781275  168.183836  170.888739   \n",
       "\n",
       "Hour               5           6           7           8           9   \\\n",
       "DayOfYear                                                               \n",
       "307        174.261518  169.094900  177.682604  213.738464  240.834234   \n",
       "308          0.000000    0.000000    0.000000    0.000000    0.000000   \n",
       "309        175.745066  176.432762  180.821283  212.186652  251.332272   \n",
       "310        177.470083  176.171268  186.631749  224.335634  257.182840   \n",
       "311        174.740786  176.120018  188.299121  217.889758  241.979390   \n",
       "312        171.131140  171.988145  167.823309  171.800550  182.450307   \n",
       "313        173.051066  173.211362  171.852120  170.873375  173.944022   \n",
       "314        167.238539  168.414832  177.146661  216.465390  251.176082   \n",
       "\n",
       "Hour          ...              14          15          16          17  \\\n",
       "DayOfYear     ...                                                       \n",
       "307           ...      285.848431  282.179261  265.808264  234.853047   \n",
       "308           ...        0.000000  286.586233  265.938267  239.585123   \n",
       "309           ...      291.658874  285.164083  272.461321  237.702088   \n",
       "310           ...      301.060032  294.788286  276.780736  246.844796   \n",
       "311           ...      277.692398  269.128969  246.022263  221.403711   \n",
       "312           ...      187.203922  178.987205  176.308873  176.490823   \n",
       "313           ...      179.469293  181.268515  184.402566  188.127345   \n",
       "314           ...      291.936339  288.816652  272.834723  236.619500   \n",
       "\n",
       "Hour               18          19          20          21          22  \\\n",
       "DayOfYear                                                               \n",
       "307        216.433591  201.523218  195.322661  192.279532  184.430220   \n",
       "308        222.697812  209.463517  197.027155  186.071296  181.531721   \n",
       "309        219.649703  206.454560  202.381737  193.751685  185.432286   \n",
       "310        224.904487  208.292501  201.058415  195.169069  187.074535   \n",
       "311        205.581470  194.892612  188.247514  185.002102  182.339011   \n",
       "312        176.148830  177.432243  176.202477  176.172438  177.231555   \n",
       "313        189.121753  188.820933  186.481231  185.176643  184.925333   \n",
       "314        215.968310  201.579994  192.943178  186.367610  180.377802   \n",
       "\n",
       "Hour               23  \n",
       "DayOfYear              \n",
       "307          0.000000  \n",
       "308        178.805078  \n",
       "309        183.448285  \n",
       "310        188.150353  \n",
       "311        181.330262  \n",
       "312        178.389350  \n",
       "313        180.496314  \n",
       "314          0.000000  \n",
       "\n",
       "[8 rows x 24 columns]"
      ]
     },
     "execution_count": 12,
     "metadata": {},
     "output_type": "execute_result"
    }
   ],
   "source": [
    "#load Curves\n",
    "loadCurves = data.groupby(['DayOfYear', 'Hour'])['Value'].mean().unstack()\n",
    "loadCurves = loadCurves.replace(np.inf, np.nan).fillna(0)\n",
    "\n",
    "#load curves for 1.Porter Hall and 2.Baker Hall \n",
    "lc1=df1.groupby(['DayOfYear', 'Hour'])['Value'].mean().unstack()\n",
    "lc2=df2.groupby(['DayOfYear', 'Hour'])['Value'].mean().unstack()\n",
    "#replace na with 0.1\n",
    "lc1=lc1.replace(np.inf, np.nan).fillna(0)\n",
    "lc2=lc2.replace(np.inf, np.nan).fillna(0)\n",
    "lc2"
   ]
  },
  {
   "cell_type": "code",
   "execution_count": 13,
   "metadata": {
    "collapsed": true
   },
   "outputs": [
    {
     "data": {
      "text/html": [
       "<div>\n",
       "<style>\n",
       "    .dataframe thead tr:only-child th {\n",
       "        text-align: right;\n",
       "    }\n",
       "\n",
       "    .dataframe thead th {\n",
       "        text-align: left;\n",
       "    }\n",
       "\n",
       "    .dataframe tbody tr th {\n",
       "        vertical-align: top;\n",
       "    }\n",
       "</style>\n",
       "<table border=\"1\" class=\"dataframe\">\n",
       "  <thead>\n",
       "    <tr style=\"text-align: right;\">\n",
       "      <th></th>\n",
       "      <th>0</th>\n",
       "      <th>1</th>\n",
       "      <th>2</th>\n",
       "      <th>3</th>\n",
       "      <th>4</th>\n",
       "      <th>5</th>\n",
       "      <th>6</th>\n",
       "      <th>7</th>\n",
       "      <th>8</th>\n",
       "      <th>9</th>\n",
       "      <th>...</th>\n",
       "      <th>14</th>\n",
       "      <th>15</th>\n",
       "      <th>16</th>\n",
       "      <th>17</th>\n",
       "      <th>18</th>\n",
       "      <th>19</th>\n",
       "      <th>20</th>\n",
       "      <th>21</th>\n",
       "      <th>22</th>\n",
       "      <th>23</th>\n",
       "    </tr>\n",
       "  </thead>\n",
       "  <tbody>\n",
       "    <tr>\n",
       "      <th>0</th>\n",
       "      <td>0.034993</td>\n",
       "      <td>0.035011</td>\n",
       "      <td>0.035054</td>\n",
       "      <td>0.034679</td>\n",
       "      <td>0.034645</td>\n",
       "      <td>0.034676</td>\n",
       "      <td>0.033648</td>\n",
       "      <td>0.035357</td>\n",
       "      <td>0.042532</td>\n",
       "      <td>0.047923</td>\n",
       "      <td>...</td>\n",
       "      <td>0.056881</td>\n",
       "      <td>0.056150</td>\n",
       "      <td>0.052893</td>\n",
       "      <td>0.046733</td>\n",
       "      <td>0.043068</td>\n",
       "      <td>0.040101</td>\n",
       "      <td>0.038867</td>\n",
       "      <td>0.038261</td>\n",
       "      <td>0.036700</td>\n",
       "      <td>0.000000</td>\n",
       "    </tr>\n",
       "    <tr>\n",
       "      <th>1</th>\n",
       "      <td>0.000000</td>\n",
       "      <td>0.000000</td>\n",
       "      <td>0.000000</td>\n",
       "      <td>0.000000</td>\n",
       "      <td>0.000000</td>\n",
       "      <td>0.000000</td>\n",
       "      <td>0.000000</td>\n",
       "      <td>0.000000</td>\n",
       "      <td>0.000000</td>\n",
       "      <td>0.000000</td>\n",
       "      <td>...</td>\n",
       "      <td>0.000000</td>\n",
       "      <td>0.145645</td>\n",
       "      <td>0.135151</td>\n",
       "      <td>0.121759</td>\n",
       "      <td>0.113176</td>\n",
       "      <td>0.106451</td>\n",
       "      <td>0.100130</td>\n",
       "      <td>0.094563</td>\n",
       "      <td>0.092256</td>\n",
       "      <td>0.090870</td>\n",
       "    </tr>\n",
       "    <tr>\n",
       "      <th>2</th>\n",
       "      <td>0.033835</td>\n",
       "      <td>0.034280</td>\n",
       "      <td>0.034521</td>\n",
       "      <td>0.033755</td>\n",
       "      <td>0.034332</td>\n",
       "      <td>0.033000</td>\n",
       "      <td>0.033129</td>\n",
       "      <td>0.033953</td>\n",
       "      <td>0.039843</td>\n",
       "      <td>0.047193</td>\n",
       "      <td>...</td>\n",
       "      <td>0.054766</td>\n",
       "      <td>0.053546</td>\n",
       "      <td>0.051161</td>\n",
       "      <td>0.044634</td>\n",
       "      <td>0.041244</td>\n",
       "      <td>0.038767</td>\n",
       "      <td>0.038002</td>\n",
       "      <td>0.036381</td>\n",
       "      <td>0.034819</td>\n",
       "      <td>0.034447</td>\n",
       "    </tr>\n",
       "    <tr>\n",
       "      <th>3</th>\n",
       "      <td>0.034299</td>\n",
       "      <td>0.033901</td>\n",
       "      <td>0.033497</td>\n",
       "      <td>0.033560</td>\n",
       "      <td>0.033722</td>\n",
       "      <td>0.032698</td>\n",
       "      <td>0.032459</td>\n",
       "      <td>0.034386</td>\n",
       "      <td>0.041333</td>\n",
       "      <td>0.047385</td>\n",
       "      <td>...</td>\n",
       "      <td>0.055469</td>\n",
       "      <td>0.054314</td>\n",
       "      <td>0.050996</td>\n",
       "      <td>0.045480</td>\n",
       "      <td>0.041438</td>\n",
       "      <td>0.038377</td>\n",
       "      <td>0.037044</td>\n",
       "      <td>0.035959</td>\n",
       "      <td>0.034468</td>\n",
       "      <td>0.034666</td>\n",
       "    </tr>\n",
       "    <tr>\n",
       "      <th>4</th>\n",
       "      <td>0.036581</td>\n",
       "      <td>0.035444</td>\n",
       "      <td>0.034894</td>\n",
       "      <td>0.034378</td>\n",
       "      <td>0.034959</td>\n",
       "      <td>0.033929</td>\n",
       "      <td>0.034197</td>\n",
       "      <td>0.036562</td>\n",
       "      <td>0.042307</td>\n",
       "      <td>0.046985</td>\n",
       "      <td>...</td>\n",
       "      <td>0.053919</td>\n",
       "      <td>0.052256</td>\n",
       "      <td>0.047770</td>\n",
       "      <td>0.042989</td>\n",
       "      <td>0.039917</td>\n",
       "      <td>0.037842</td>\n",
       "      <td>0.036552</td>\n",
       "      <td>0.035921</td>\n",
       "      <td>0.035404</td>\n",
       "      <td>0.035208</td>\n",
       "    </tr>\n",
       "    <tr>\n",
       "      <th>5</th>\n",
       "      <td>0.042383</td>\n",
       "      <td>0.041435</td>\n",
       "      <td>0.040695</td>\n",
       "      <td>0.039998</td>\n",
       "      <td>0.040332</td>\n",
       "      <td>0.040068</td>\n",
       "      <td>0.040269</td>\n",
       "      <td>0.039294</td>\n",
       "      <td>0.040225</td>\n",
       "      <td>0.042718</td>\n",
       "      <td>...</td>\n",
       "      <td>0.043831</td>\n",
       "      <td>0.041908</td>\n",
       "      <td>0.041281</td>\n",
       "      <td>0.041323</td>\n",
       "      <td>0.041243</td>\n",
       "      <td>0.041544</td>\n",
       "      <td>0.041256</td>\n",
       "      <td>0.041249</td>\n",
       "      <td>0.041497</td>\n",
       "      <td>0.041768</td>\n",
       "    </tr>\n",
       "    <tr>\n",
       "      <th>6</th>\n",
       "      <td>0.041138</td>\n",
       "      <td>0.040590</td>\n",
       "      <td>0.041424</td>\n",
       "      <td>0.040413</td>\n",
       "      <td>0.040535</td>\n",
       "      <td>0.040368</td>\n",
       "      <td>0.040406</td>\n",
       "      <td>0.040089</td>\n",
       "      <td>0.039860</td>\n",
       "      <td>0.040577</td>\n",
       "      <td>...</td>\n",
       "      <td>0.041866</td>\n",
       "      <td>0.042285</td>\n",
       "      <td>0.043016</td>\n",
       "      <td>0.043885</td>\n",
       "      <td>0.044117</td>\n",
       "      <td>0.044047</td>\n",
       "      <td>0.043501</td>\n",
       "      <td>0.043197</td>\n",
       "      <td>0.043138</td>\n",
       "      <td>0.042105</td>\n",
       "    </tr>\n",
       "    <tr>\n",
       "      <th>7</th>\n",
       "      <td>0.035513</td>\n",
       "      <td>0.034006</td>\n",
       "      <td>0.033584</td>\n",
       "      <td>0.033465</td>\n",
       "      <td>0.034003</td>\n",
       "      <td>0.033277</td>\n",
       "      <td>0.033511</td>\n",
       "      <td>0.035249</td>\n",
       "      <td>0.043072</td>\n",
       "      <td>0.049979</td>\n",
       "      <td>...</td>\n",
       "      <td>0.058089</td>\n",
       "      <td>0.057469</td>\n",
       "      <td>0.054288</td>\n",
       "      <td>0.047082</td>\n",
       "      <td>0.042973</td>\n",
       "      <td>0.040110</td>\n",
       "      <td>0.038392</td>\n",
       "      <td>0.037083</td>\n",
       "      <td>0.035891</td>\n",
       "      <td>0.000000</td>\n",
       "    </tr>\n",
       "  </tbody>\n",
       "</table>\n",
       "<p>8 rows × 24 columns</p>\n",
       "</div>"
      ],
      "text/plain": [
       "         0         1         2         3         4         5         6   \\\n",
       "0  0.034993  0.035011  0.035054  0.034679  0.034645  0.034676  0.033648   \n",
       "1  0.000000  0.000000  0.000000  0.000000  0.000000  0.000000  0.000000   \n",
       "2  0.033835  0.034280  0.034521  0.033755  0.034332  0.033000  0.033129   \n",
       "3  0.034299  0.033901  0.033497  0.033560  0.033722  0.032698  0.032459   \n",
       "4  0.036581  0.035444  0.034894  0.034378  0.034959  0.033929  0.034197   \n",
       "5  0.042383  0.041435  0.040695  0.039998  0.040332  0.040068  0.040269   \n",
       "6  0.041138  0.040590  0.041424  0.040413  0.040535  0.040368  0.040406   \n",
       "7  0.035513  0.034006  0.033584  0.033465  0.034003  0.033277  0.033511   \n",
       "\n",
       "         7         8         9     ...           14        15        16  \\\n",
       "0  0.035357  0.042532  0.047923    ...     0.056881  0.056150  0.052893   \n",
       "1  0.000000  0.000000  0.000000    ...     0.000000  0.145645  0.135151   \n",
       "2  0.033953  0.039843  0.047193    ...     0.054766  0.053546  0.051161   \n",
       "3  0.034386  0.041333  0.047385    ...     0.055469  0.054314  0.050996   \n",
       "4  0.036562  0.042307  0.046985    ...     0.053919  0.052256  0.047770   \n",
       "5  0.039294  0.040225  0.042718    ...     0.043831  0.041908  0.041281   \n",
       "6  0.040089  0.039860  0.040577    ...     0.041866  0.042285  0.043016   \n",
       "7  0.035249  0.043072  0.049979    ...     0.058089  0.057469  0.054288   \n",
       "\n",
       "         17        18        19        20        21        22        23  \n",
       "0  0.046733  0.043068  0.040101  0.038867  0.038261  0.036700  0.000000  \n",
       "1  0.121759  0.113176  0.106451  0.100130  0.094563  0.092256  0.090870  \n",
       "2  0.044634  0.041244  0.038767  0.038002  0.036381  0.034819  0.034447  \n",
       "3  0.045480  0.041438  0.038377  0.037044  0.035959  0.034468  0.034666  \n",
       "4  0.042989  0.039917  0.037842  0.036552  0.035921  0.035404  0.035208  \n",
       "5  0.041323  0.041243  0.041544  0.041256  0.041249  0.041497  0.041768  \n",
       "6  0.043885  0.044117  0.044047  0.043501  0.043197  0.043138  0.042105  \n",
       "7  0.047082  0.042973  0.040110  0.038392  0.037083  0.035891  0.000000  \n",
       "\n",
       "[8 rows x 24 columns]"
      ]
     },
     "execution_count": 13,
     "metadata": {},
     "output_type": "execute_result"
    }
   ],
   "source": [
    "#Normalized\n",
    "X1 = lc1.as_matrix().astype(np.float32)\n",
    "X2 = lc2.as_matrix().astype(np.float32)\n",
    "#normalize s(t) = l(t)/a\n",
    "X1 = (X1.T /X1.sum(axis=1)).T \n",
    "X2 = (X2.T /X2.sum(axis=1)).T \n",
    "#convert to dataFrame\n",
    "X1 = pd.DataFrame(X1)\n",
    "X2 = pd.DataFrame(X2)\n",
    "X2"
   ]
  },
  {
   "cell_type": "markdown",
   "metadata": {},
   "source": [
    "## 2 Exploratory Data Analysis"
   ]
  },
  {
   "cell_type": "markdown",
   "metadata": {},
   "source": [
    "**Task #5 [10%]:** Using data from Porter Hall and Baker Hall, recreate Figure 2 from Kwac et al. (Zone 3 and Zone 13 from the paper would correspond to the two meters)."
   ]
  },
  {
   "cell_type": "code",
   "execution_count": 35,
   "metadata": {},
   "outputs": [
    {
     "data": {
      "text/plain": [
       "<matplotlib.axes._subplots.AxesSubplot at 0x1ef73e599b0>"
      ]
     },
     "execution_count": 35,
     "metadata": {},
     "output_type": "execute_result"
    },
    {
     "data": {
      "image/png": "[encoded data removed]",
      "text/plain": [
       "<matplotlib.figure.Figure at 0x1ef724e35f8>"
      ]
     },
     "metadata": {},
     "output_type": "display_data"
    }
   ],
   "source": [
    "# daily consumption -- sum of hourly avg kw\n",
    "daily1 = lc1.sum(axis=1)\n",
    "daily2 = lc2.sum(axis=1)\n",
    "# draw\n",
    "plt.figure(figsize=(10,5))\n",
    "plt.xlabel('Daily consumption')\n",
    "plt.ylabel('Density')\n",
    "\n",
    "sns.distplot(daily1, kde_kws=dict(cumulative=0), label='1.Porter Hall') # hist_kws=dict(cumulative=True)\n",
    "sns.distplot(daily2, kde_kws=dict(cumulative=0),label='2.Baker Hall')"
   ]
  },
  {
   "cell_type": "markdown",
   "metadata": {},
   "source": [
    "**Task #6 [10%]:** Plot the empirical Cumulative Distribution Function (CDF) of the densities you showed in the previous task"
   ]
  },
  {
   "cell_type": "code",
   "execution_count": 37,
   "metadata": {},
   "outputs": [
    {
     "data": {
      "text/plain": [
       "<matplotlib.axes._subplots.AxesSubplot at 0x1ef7460d780>"
      ]
     },
     "execution_count": 37,
     "metadata": {},
     "output_type": "execute_result"
    },
    {
     "data": {
      "image/png": "[encoded data removed]",
      "text/plain": [
       "<matplotlib.figure.Figure at 0x1ef7460df60>"
      ]
     },
     "metadata": {},
     "output_type": "display_data"
    }
   ],
   "source": [
    "# draw\n",
    "plt.figure(figsize=(10,5))\n",
    "plt.xlabel('Daily consumption')\n",
    "plt.ylabel('Density')\n",
    "\n",
    "sns.distplot(daily1, kde_kws=dict(cumulative=True),hist_kws=dict(cumulative=True), label='1.Porter Hall') # hist_kws=dict(cumulative=True)\n",
    "sns.distplot(daily2, kde_kws=dict(cumulative=True),hist_kws=dict(cumulative=True),label='2.Baker Hall')"
   ]
  },
  {
   "cell_type": "markdown",
   "metadata": {
    "collapsed": true
   },
   "source": [
    "**Task #7 [5%]:** Comment on what you have learned from the CDF and PDF plots that were generated for Porter Hall and Baker Hall."
   ]
  },
  {
   "cell_type": "markdown",
   "metadata": {},
   "source": [
    "**Task #8 [5%]:** If you were asked to suggest a probability distribution for this daily consumption data, which one would you suggest? Please provide some evidence for your claim."
   ]
  },
  {
   "cell_type": "markdown",
   "metadata": {},
   "source": [
    "**Task #9 [5%]:** Create two figures (one for each meter), containing seven box plots corresponding to the daily consumption for the seven days of the week."
   ]
  },
  {
   "cell_type": "markdown",
   "metadata": {},
   "source": [
    "**Task #10 [5%]:** Repeat the same process but now with Violin plots (see e.g.,seaborn.violinplot())"
   ]
  },
  {
   "cell_type": "markdown",
   "metadata": {},
   "source": [
    "## 3 Clustering"
   ]
  },
  {
   "cell_type": "markdown",
   "metadata": {},
   "source": [
    "**Task #11 [5%]:** Create one single figure showing line plots for all of the load curves for both meters. This plot should have, on the horizontal axis, the hours of the day "
   ]
  },
  {
   "cell_type": "code",
   "execution_count": 49,
   "metadata": {},
   "outputs": [
    {
     "data": {
      "text/plain": [
       "[<matplotlib.lines.Line2D at 0x1ef74bc8898>]"
      ]
     },
     "execution_count": 49,
     "metadata": {},
     "output_type": "execute_result"
    },
    {
     "data": {
      "image/png": "[encoded data removed]",
      "text/plain": [
       "<matplotlib.figure.Figure at 0x1ef74382208>"
      ]
     },
     "metadata": {},
     "output_type": "display_data"
    }
   ],
   "source": [
    "# draw\n",
    "plt.figure(figsize=(10,5))\n",
    "plt.xlabel('hours of the day')\n",
    "plt.ylabel('avg power consumption (kW)')\n",
    "\n",
    "plt.plot(np.mean(lc1,axis=0), label='1.Porter Hall')\n",
    "plt.plot(np.mean(lc2,axis=0), label='2.Baker Hall')"
   ]
  },
  {
   "cell_type": "markdown",
   "metadata": {},
   "source": [
    "**Task #12 [5%]:** Re-generate the figure by having load curves from Porter Hall show as light green, and curves from Baker Hall show as light red (think Christmas). Finish it by including in it an average load curve for each of the meters (i.e., the average hourly demand for all of the days recorded by the meter). Plot this average load curve in dark green (for Porter Hall) and\n",
    "dark red (Baker Hall)."
   ]
  },
  {
   "cell_type": "code",
   "execution_count": 70,
   "metadata": {},
   "outputs": [
    {
     "data": {
      "text/plain": [
       "<matplotlib.lines.Line2D at 0x1ef75158668>"
      ]
     },
     "execution_count": 70,
     "metadata": {},
     "output_type": "execute_result"
    },
    {
     "data": {
      "image/png": "[encoded data removed]",
      "text/plain": [
       "<matplotlib.figure.Figure at 0x1ef743617f0>"
      ]
     },
     "metadata": {},
     "output_type": "display_data"
    }
   ],
   "source": [
    "# draw\n",
    "plt.figure(figsize=(10,5))\n",
    "plt.xlabel('hours of the day')\n",
    "plt.ylabel('avg power consumption (kW)')\n",
    "\n",
    "plt.plot(np.mean(lc1,axis=0),c='green', label='1.Porter Hall')\n",
    "plt.plot(np.mean(lc2,axis=0),c='red', label='2.Baker Hall')\n",
    "plt.axhline(y=np.mean(lc1).mean(),c='darkgreen',label='1.Porter Hall mean')\n",
    "plt.axhline(y=np.mean(lc2).mean(),c='darkred',label='2.Baker Hall mean')"
   ]
  },
  {
   "cell_type": "markdown",
   "metadata": {},
   "source": [
    "**Task #13 [5%]:** What did you learn from this? Are there some clear clusters of 24dimensional vectors? Is this a useful way of thinking about clsuters of the data? Did any particular load curve stand out to you? If so, did you check what day it came from and what\n",
    "the causes for it may be?"
   ]
  },
  {
   "cell_type": "markdown",
   "metadata": {},
   "source": [
    "**Task #14 [5%]:** Compute the total scatter for the entire load curve dataset (i.e., both meters). For this task, and the following two, use the Euclidean distance as the dissimilarity\n",
    "measure."
   ]
  },
  {
   "cell_type": "code",
   "execution_count": 74,
   "metadata": {},
   "outputs": [
    {
     "data": {
      "text/plain": [
       "<matplotlib.colorbar.Colorbar at 0x1ef7437b128>"
      ]
     },
     "execution_count": 74,
     "metadata": {},
     "output_type": "execute_result"
    },
    {
     "data": {
      "image/png": "[encoded data removed]",
      "text/plain": [
       "<matplotlib.figure.Figure at 0x1ef750c88d0>"
      ]
     },
     "metadata": {},
     "output_type": "display_data"
    }
   ],
   "source": [
    "import scipy.spatial.distance as dist\n",
    "D = dist.squareform(dist.pdist(loadCurves),'euclidean') #Euclidean distance\n",
    "T = lambda D: np.sum(np.sum(D)) # total scatter\n",
    "\n",
    "plt.imshow(D)\n",
    "plt.colorbar()"
   ]
  },
  {
   "cell_type": "markdown",
   "metadata": {},
   "source": [
    "As you now know, this total scatter can be decomposed in to a “within” cluster scatter (i.e., W(C)) and a betwee-cluster scatter (B(C)) for any cluster assignment C. Since we know the data came from two separate buildings, it would make sense to ask what is the W(C) and B(C) for this dataset too, assuming that there are two clusters and the assignment is done by just assigning\n",
    "each load curve to the meter from which it came from."
   ]
  },
  {
   "cell_type": "markdown",
   "metadata": {},
   "source": [
    "**Task #15 [5%]:** Calculate W(C) and B(C) as stated above."
   ]
  },
  {
   "cell_type": "markdown",
   "metadata": {},
   "source": [
    "**Task #16 [5%]:** Create three random cluster assignment Ci with i ∈ 3, 5 and 10 clusters. Recompute T for each one of these cluster assignments, by computing Ti = W(Ci)+B(Ci). Are\n",
    "they all the same?"
   ]
  },
  {
   "cell_type": "markdown",
   "metadata": {},
   "source": [
    "**Task #17 [10%]:** Using the sci-kit learn k-Means implementation, perform clustering on the load curve dataset (combining data from Porter Hall and Baker Hall). Specifically, see if you can find cluster assignments that separate the load curves from both meters. Then see if you can apply a transformation to the load curve dataset to allow for clusters that are not based on the meters but rather on temporal patterns (i.e., different times of the year, different days\n",
    "of the week, etc)."
   ]
  },
  {
   "cell_type": "code",
   "execution_count": null,
   "metadata": {
    "collapsed": true
   },
   "outputs": [],
   "source": []
  },
  {
   "cell_type": "code",
   "execution_count": 2,
   "metadata": {},
   "outputs": [
    {
     "name": "stdout",
     "output_type": "stream",
     "text": [
      "On branch master\n",
      "Your branch is up to date with 'origin/master'.\n",
      "\n",
      "Changes not staged for commit:\n",
      "  (use \"git add <file>...\" to update what will be committed)\n",
      "  (use \"git checkout -- <file>...\" to discard changes in working directory)\n",
      "\n",
      "\tmodified:   Hello.ipynb\n",
      "\tmodified:   IW_Energy.ipynb\n",
      "\n",
      "Untracked files:\n",
      "  (use \"git add <file>...\" to include in what will be committed)\n",
      "\n",
      "\t.ipynb_checkpoints/\n",
      "\tAssignment#2.ipynb\n",
      "\tdata/\n",
      "\n",
      "no changes added to commit (use \"git add\" and/or \"git commit -a\")\n"
     ]
    },
    {
     "name": "stderr",
     "output_type": "stream",
     "text": [
      "warning: LF will be replaced by CRLF in Assignment#2.ipynb.\n",
      "The file will have its original line endings in your working directory.\n"
     ]
    }
   ],
   "source": [
    "!git status\n",
    "!git add Assignment#2.ipynb\n",
    "!git commit -m \"hw2\"\n",
    "!git push"
   ]
  },
  {
   "cell_type": "code",
   "execution_count": null,
   "metadata": {
    "collapsed": true
   },
   "outputs": [],
   "source": []
  }
 ],
 "metadata": {
  "kernelspec": {
   "display_name": "Python 3",
   "language": "python",
   "name": "python3"
  },
  "language_info": {
   "codemirror_mode": {
    "name": "ipython",
    "version": 3
   },
   "file_extension": ".py",
   "mimetype": "text/x-python",
   "name": "python",
   "nbconvert_exporter": "python",
   "pygments_lexer": "ipython3",
   "version": "3.6.2"
  }
 },
 "nbformat": 4,
 "nbformat_minor": 2
}
