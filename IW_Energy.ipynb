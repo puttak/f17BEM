{
 "cells": [
  {
   "cell_type": "code",
   "execution_count": 22,
   "metadata": {
    "collapsed": true
   },
   "outputs": [],
   "source": [
    "import numpy as np\n",
    "import matplotlib.pyplot as plt\n",
    "import pandas as pd\n",
    "import datetime as dt\n",
    "import itertools\n",
    "import seaborn as sns\n",
    "from sklearn import linear_model\n",
    "from sklearn.kernel_ridge import KernelRidge\n",
    "\n",
    "%matplotlib inline"
   ]
  },
  {
   "cell_type": "code",
   "execution_count": 23,
   "metadata": {},
   "outputs": [
    {
     "data": {
      "text/html": [
       "<div>\n",
       "<style>\n",
       "    .dataframe thead tr:only-child th {\n",
       "        text-align: right;\n",
       "    }\n",
       "\n",
       "    .dataframe thead th {\n",
       "        text-align: left;\n",
       "    }\n",
       "\n",
       "    .dataframe tbody tr th {\n",
       "        vertical-align: top;\n",
       "    }\n",
       "</style>\n",
       "<table border=\"1\" class=\"dataframe\">\n",
       "  <thead>\n",
       "    <tr style=\"text-align: right;\">\n",
       "      <th></th>\n",
       "      <th>Time</th>\n",
       "      <th>Cooling Demand(kW)</th>\n",
       "      <th>Heating Demand(kW)</th>\n",
       "      <th>Return Water T(F)</th>\n",
       "      <th>Supply Water T(F)</th>\n",
       "    </tr>\n",
       "  </thead>\n",
       "  <tbody>\n",
       "    <tr>\n",
       "      <th>0</th>\n",
       "      <td>01-Jun-17 00:00:00</td>\n",
       "      <td>7.667234</td>\n",
       "      <td>0.0</td>\n",
       "      <td>58.27999878</td>\n",
       "      <td>56.98400116</td>\n",
       "    </tr>\n",
       "    <tr>\n",
       "      <th>1</th>\n",
       "      <td>01-Jun-17 00:05:00</td>\n",
       "      <td>7.668852</td>\n",
       "      <td>0.0</td>\n",
       "      <td>58.57170486</td>\n",
       "      <td>57.68407059</td>\n",
       "    </tr>\n",
       "    <tr>\n",
       "      <th>2</th>\n",
       "      <td>01-Jun-17 00:10:00</td>\n",
       "      <td>7.670471</td>\n",
       "      <td>0.0</td>\n",
       "      <td>58.77991867</td>\n",
       "      <td>58.22870636</td>\n",
       "    </tr>\n",
       "    <tr>\n",
       "      <th>3</th>\n",
       "      <td>01-Jun-17 00:15:00</td>\n",
       "      <td>7.672090</td>\n",
       "      <td>0.0</td>\n",
       "      <td>59.00154877</td>\n",
       "      <td>58.4993248</td>\n",
       "    </tr>\n",
       "    <tr>\n",
       "      <th>4</th>\n",
       "      <td>01-Jun-17 00:20:00</td>\n",
       "      <td>7.673708</td>\n",
       "      <td>0.0</td>\n",
       "      <td>59.25576019</td>\n",
       "      <td>58.6530838</td>\n",
       "    </tr>\n",
       "  </tbody>\n",
       "</table>\n",
       "</div>"
      ],
      "text/plain": [
       "                 Time  Cooling Demand(kW)  Heating Demand(kW)  \\\n",
       "0  01-Jun-17 00:00:00            7.667234                 0.0   \n",
       "1  01-Jun-17 00:05:00            7.668852                 0.0   \n",
       "2  01-Jun-17 00:10:00            7.670471                 0.0   \n",
       "3  01-Jun-17 00:15:00            7.672090                 0.0   \n",
       "4  01-Jun-17 00:20:00            7.673708                 0.0   \n",
       "\n",
       "  Return Water T(F) Supply Water T(F)  \n",
       "0       58.27999878       56.98400116  \n",
       "1       58.57170486       57.68407059  \n",
       "2       58.77991867       58.22870636  \n",
       "3       59.00154877        58.4993248  \n",
       "4       59.25576019        58.6530838  "
      ]
     },
     "execution_count": 23,
     "metadata": {},
     "output_type": "execute_result"
    }
   ],
   "source": [
    "f = open('data/IW_data_new.csv')\n",
    "#cols=['Time','CD','HD','RW','SW']\n",
    "data = pd.read_csv(f)\n",
    "data.head()"
   ]
  },
  {
   "cell_type": "code",
   "execution_count": 28,
   "metadata": {},
   "outputs": [
    {
     "name": "stdout",
     "output_type": "stream",
     "text": [
      "On branch master\n",
      "Your branch is up to date with 'origin/master'.\n",
      "\n",
      "Changes not staged for commit:\n",
      "  (use \"git add <file>...\" to update what will be committed)\n",
      "  (use \"git checkout -- <file>...\" to discard changes in working directory)\n",
      "\n",
      "\tmodified:   Hello.ipynb\n",
      "\n",
      "Untracked files:\n",
      "  (use \"git add <file>...\" to include in what will be committed)\n",
      "\n",
      "\t.ipynb_checkpoints/\n",
      "\tAssignment #2.ipynb\n",
      "\tIW_Energy.ipynb\n",
      "\tdata/\n",
      "\n",
      "no changes added to commit (use \"git add\" and/or \"git commit -a\")\n"
     ]
    }
   ],
   "source": [
    "!git status"
   ]
  },
  {
   "cell_type": "code",
   "execution_count": null,
   "metadata": {
    "collapsed": true
   },
   "outputs": [],
   "source": [
    "!git add \n",
    "!git commit -m \"RA update 1205\"\n",
    "!git push"
   ]
  }
 ],
 "metadata": {
  "kernelspec": {
   "display_name": "Python 3",
   "language": "python",
   "name": "python3"
  },
  "language_info": {
   "codemirror_mode": {
    "name": "ipython",
    "version": 3
   },
   "file_extension": ".py",
   "mimetype": "text/x-python",
   "name": "python",
   "nbconvert_exporter": "python",
   "pygments_lexer": "ipython3",
   "version": "3.6.2"
  }
 },
 "nbformat": 4,
 "nbformat_minor": 2
}
